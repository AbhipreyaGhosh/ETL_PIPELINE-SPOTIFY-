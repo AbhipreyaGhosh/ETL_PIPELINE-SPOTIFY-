{
 "cells": [
  {
   "cell_type": "code",
   "execution_count": 1,
   "id": "8ec75ae2",
   "metadata": {},
   "outputs": [
    {
     "name": "stdout",
     "output_type": "stream",
     "text": [
      "Defaulting to user installation because normal site-packages is not writeable\n",
      "Requirement already satisfied: spotipy in c:\\users\\abhipreya ghosh\\appdata\\roaming\\python\\python310\\site-packages (2.22.1)\n",
      "Requirement already satisfied: urllib3>=1.26.0 in c:\\users\\abhipreya ghosh\\appdata\\roaming\\python\\python310\\site-packages (from spotipy) (1.26.15)\n",
      "Requirement already satisfied: redis>=3.5.3 in c:\\users\\abhipreya ghosh\\appdata\\roaming\\python\\python310\\site-packages (from spotipy) (4.5.3)\n",
      "Requirement already satisfied: six>=1.15.0 in c:\\users\\abhipreya ghosh\\appdata\\roaming\\python\\python310\\site-packages (from spotipy) (1.16.0)\n",
      "Requirement already satisfied: requests>=2.25.0 in c:\\users\\abhipreya ghosh\\appdata\\roaming\\python\\python310\\site-packages (from spotipy) (2.28.2)\n",
      "Requirement already satisfied: async-timeout>=4.0.2 in c:\\users\\abhipreya ghosh\\appdata\\roaming\\python\\python310\\site-packages (from redis>=3.5.3->spotipy) (4.0.2)\n",
      "Requirement already satisfied: idna<4,>=2.5 in c:\\users\\abhipreya ghosh\\appdata\\roaming\\python\\python310\\site-packages (from requests>=2.25.0->spotipy) (3.4)\n",
      "Requirement already satisfied: charset-normalizer<4,>=2 in c:\\users\\abhipreya ghosh\\appdata\\roaming\\python\\python310\\site-packages (from requests>=2.25.0->spotipy) (3.1.0)\n",
      "Requirement already satisfied: certifi>=2017.4.17 in c:\\users\\abhipreya ghosh\\appdata\\roaming\\python\\python310\\site-packages (from requests>=2.25.0->spotipy) (2022.12.7)\n",
      "Note: you may need to restart the kernel to use updated packages.\n"
     ]
    }
   ],
   "source": [
    "pip install spotipy"
   ]
  },
  {
   "cell_type": "code",
   "execution_count": 2,
   "id": "25ce2baf",
   "metadata": {},
   "outputs": [],
   "source": [
    "import spotipy\n",
    "from spotipy.oauth2 import SpotifyClientCredentials"
   ]
  },
  {
   "cell_type": "code",
   "execution_count": 3,
   "id": "803b3164",
   "metadata": {},
   "outputs": [],
   "source": [
    "client_credentials_manager = SpotifyClientCredentials(client_id=\"7096a7392ca44852b08f36684444b55a\", client_secret=\"2ffe7984069e438387820bc1a4be122c\")"
   ]
  },
  {
   "cell_type": "raw",
   "id": "c415a570",
   "metadata": {},
   "source": [
    "sp = spotipy.Spotify(client_credentials_manager = client_credentials_manager)"
   ]
  },
  {
   "cell_type": "code",
   "execution_count": 9,
   "id": "32000b5b",
   "metadata": {},
   "outputs": [],
   "source": [
    "playlist_link = \"https://open.spotify.com/playlist/37i9dQZEVXbNG2KDcFcKOF\""
   ]
  },
  {
   "cell_type": "code",
   "execution_count": 14,
   "id": "7faa781b",
   "metadata": {},
   "outputs": [],
   "source": [
    "playlist_URI = playlist_link.split(\"/\")[4]"
   ]
  },
  {
   "cell_type": "code",
   "execution_count": 17,
   "id": "25759c75",
   "metadata": {},
   "outputs": [],
   "source": [
    "sp = spotipy.Spotify(client_credentials_manager = client_credentials_manager)"
   ]
  },
  {
   "cell_type": "code",
   "execution_count": null,
   "id": "2119acc5",
   "metadata": {},
   "outputs": [],
   "source": [
    "sp.playlist_tracks()"
   ]
  }
 ],
 "metadata": {
  "kernelspec": {
   "display_name": "Python 3 (ipykernel)",
   "language": "python",
   "name": "python3"
  },
  "language_info": {
   "codemirror_mode": {
    "name": "ipython",
    "version": 3
   },
   "file_extension": ".py",
   "mimetype": "text/x-python",
   "name": "python",
   "nbconvert_exporter": "python",
   "pygments_lexer": "ipython3",
   "version": "3.10.5"
  }
 },
 "nbformat": 4,
 "nbformat_minor": 5
}
